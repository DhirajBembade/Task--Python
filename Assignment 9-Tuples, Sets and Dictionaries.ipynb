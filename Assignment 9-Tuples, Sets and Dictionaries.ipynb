{
  "nbformat": 4,
  "nbformat_minor": 0,
  "metadata": {
    "kernelspec": {
      "display_name": "Python 3",
      "language": "python",
      "name": "python3"
    },
    "language_info": {
      "codemirror_mode": {
        "name": "ipython",
        "version": 3
      },
      "file_extension": ".py",
      "mimetype": "text/x-python",
      "name": "python",
      "nbconvert_exporter": "python",
      "pygments_lexer": "ipython3",
      "version": "3.7.4"
    },
    "colab": {
      "provenance": [],
      "include_colab_link": true
    }
  },
  "cells": [
    {
      "cell_type": "markdown",
      "metadata": {
        "id": "view-in-github",
        "colab_type": "text"
      },
      "source": [
        "<a href=\"https://colab.research.google.com/github/DhirajBembade/Task--Python/blob/main/Assignment%209-Tuples%2C%20Sets%20and%20Dictionaries.ipynb\" target=\"_parent\"><img src=\"https://colab.research.google.com/assets/colab-badge.svg\" alt=\"Open In Colab\"/></a>"
      ]
    },
    {
      "cell_type": "markdown",
      "metadata": {
        "id": "8WbUJEVzs8Bx"
      },
      "source": [
        "## <u>While doing this assignment only use those concepts which have been taught till now</u>"
      ]
    },
    {
      "cell_type": "markdown",
      "metadata": {
        "id": "KjPWYK0Rs8By"
      },
      "source": [
        "## <u>Problem 1</u>\n",
        "\n",
        "### Another measure of average\n",
        "\n",
        "* Mode is defined as the value that appears most often in a set of data values. Mode corresponds to the most frequent value.\n",
        "* You are given a list of numbers and you need to calculate the mode of this list"
      ]
    },
    {
      "cell_type": "code",
      "metadata": {
        "id": "34TbaGurs8Bz"
      },
      "source": [
        "# A list containing average daily temperature over 10 days\n",
        "temperatures = [34, 40, 29, 33, 42, 40, 39, 34, 34,33 ]"
      ],
      "execution_count": 1,
      "outputs": []
    },
    {
      "cell_type": "code",
      "metadata": {
        "id": "N1Yhpkiws8B3"
      },
      "source": [
        "# Step 1 : Find the unique set of values. Store this in a list\n",
        "unique_temperatures = set(temperatures)\n",
        "lst = list(unique_temperatures)"
      ],
      "execution_count": 2,
      "outputs": []
    },
    {
      "cell_type": "code",
      "metadata": {
        "id": "KpMdlB5Fs8B8",
        "colab": {
          "base_uri": "https://localhost:8080/"
        },
        "outputId": "86785882-8b2d-4946-f4ce-a6a379415e03"
      },
      "source": [
        "# Print the unique temperature list\n",
        "print(lst)"
      ],
      "execution_count": 3,
      "outputs": [
        {
          "output_type": "stream",
          "name": "stdout",
          "text": [
            "[33, 34, 39, 40, 42, 29]\n"
          ]
        }
      ]
    },
    {
      "cell_type": "code",
      "metadata": {
        "id": "J7CyJi_Ls8B_",
        "colab": {
          "base_uri": "https://localhost:8080/"
        },
        "outputId": "539e069f-a332-49b4-f2f1-25cd674df791"
      },
      "source": [
        "# Step 2 : Create an empty dictionary which will contain the unique temperatures as keys and their counts in the original temperatures list as values\n",
        "temp_dict = {}\n",
        "\n",
        "# Set the values for each key separately\n",
        "# First key\n",
        "\n",
        "temp_dict.update({lst[0]:temperatures.count(lst[0])})\n",
        "\n",
        "# Second key\n",
        "\n",
        "temp_dict.update({lst[1]:temperatures.count(lst[1])})\n",
        "\n",
        "\n",
        "# Third key\n",
        "\n",
        "temp_dict.update({lst[2]:temperatures.count(lst[2])})\n",
        "\n",
        "# Fourth key\n",
        "\n",
        "temp_dict.update({lst[3]:temperatures.count(lst[3])})\n",
        "\n",
        "# Fifth key\n",
        "\n",
        "temp_dict.update({lst[4]:temperatures.count(lst[4])})\n",
        "\n",
        "# Sixth key\n",
        "\n",
        "temp_dict.update({lst[5]:temperatures.count(lst[5])})\n",
        "\n",
        "# print\n",
        "\n",
        "print(temp_dict)"
      ],
      "execution_count": 5,
      "outputs": [
        {
          "output_type": "stream",
          "name": "stdout",
          "text": [
            "{33: 2, 34: 3, 39: 1, 40: 2, 42: 1, 29: 1}\n"
          ]
        }
      ]
    },
    {
      "cell_type": "code",
      "metadata": {
        "id": "4-ZxbmMxtWfQ",
        "colab": {
          "base_uri": "https://localhost:8080/"
        },
        "outputId": "d6650fe7-7ef4-408a-aacd-80ebdd2f7e12"
      },
      "source": [
        "# Step 3: Store the dictionary values in a list\n",
        "\n",
        "temp_dict_frequencies = list(temp_dict.values())\n",
        "\n",
        "# Print the list of dictionary values\n",
        "\n",
        "print(temp_dict_frequencies,'\\n')\n",
        "\n",
        "# Find the index of the most frequent temperature value\n",
        "\n",
        "maximum=max(temp_dict_frequencies)\n",
        "\n",
        "most_frequent_temp_index = temp_dict_frequencies.count(maximum)\n",
        "\n",
        "# Print the index\n",
        "\n",
        "most_frequent_temp_index"
      ],
      "execution_count": 12,
      "outputs": [
        {
          "output_type": "stream",
          "name": "stdout",
          "text": [
            "[2, 3, 1, 2, 1, 1] \n",
            "\n"
          ]
        },
        {
          "output_type": "execute_result",
          "data": {
            "text/plain": [
              "1"
            ]
          },
          "metadata": {},
          "execution_count": 12
        }
      ]
    },
    {
      "cell_type": "code",
      "metadata": {
        "id": "riu9mZhcwBY6",
        "colab": {
          "base_uri": "https://localhost:8080/"
        },
        "outputId": "d880bb4d-100a-40ba-bb8e-dbb55b7178e6"
      },
      "source": [
        "# Step 4 : Create the list of dictionary keys\n",
        "temp_dict_keys = list(temp_dict.keys())\n",
        "\n",
        "# Print the list of dictionary keys\n",
        "\n",
        "print(temp_dict_keys,'\\n')\n",
        "\n",
        "# Calculate the mode temperature\n",
        "mode_temp = temp_dict_keys[most_frequent_temp_index]\n",
        "\n",
        "print(mode_temp)"
      ],
      "execution_count": 10,
      "outputs": [
        {
          "output_type": "stream",
          "name": "stdout",
          "text": [
            "[33, 34, 39, 40, 42, 29] \n",
            "\n",
            "34\n"
          ]
        }
      ]
    },
    {
      "cell_type": "markdown",
      "metadata": {
        "id": "5qd8g8UUs8CM"
      },
      "source": [
        "## <u>Problem 2 </u>\n",
        "\n",
        "### Challenging the immutability of tuples\n",
        "\n",
        "You are given a list of tuples. You need to replace the last element of the last tuple"
      ]
    },
    {
      "cell_type": "code",
      "metadata": {
        "id": "FBJy9Sq_s8CN"
      },
      "source": [
        "# Input list of tuples\n",
        "\n",
        "list_of_tuples = [(10,20,30),(30,40,50),(50,60,70)]\n",
        "\n",
        "\n",
        "# Expected output : Replace the last element 70 with 100\n",
        "# output_list = [(10,20,30),(30,40,50),(50,60,100)]"
      ],
      "execution_count": 14,
      "outputs": []
    },
    {
      "cell_type": "markdown",
      "source": [
        "\n",
        "\n",
        "---\n",
        "\n"
      ],
      "metadata": {
        "id": "U_tQP8BaVUKf"
      }
    },
    {
      "cell_type": "code",
      "source": [
        "l1=list_of_tuples[:-1]\n",
        "l1"
      ],
      "metadata": {
        "colab": {
          "base_uri": "https://localhost:8080/"
        },
        "id": "4nWR4faXLbef",
        "outputId": "0c741c5b-3b1f-4096-c6d2-b6603782c4dd"
      },
      "execution_count": 27,
      "outputs": [
        {
          "output_type": "execute_result",
          "data": {
            "text/plain": [
              "[(10, 20, 30), (30, 40, 50)]"
            ]
          },
          "metadata": {},
          "execution_count": 27
        }
      ]
    },
    {
      "cell_type": "code",
      "source": [
        "l2=list_of_tuples[2][:-1]\n",
        "l2"
      ],
      "metadata": {
        "colab": {
          "base_uri": "https://localhost:8080/"
        },
        "id": "6pwnhQG_SB0s",
        "outputId": "6b33989a-f0a6-4994-b2c8-6baf62bea2c6"
      },
      "execution_count": 28,
      "outputs": [
        {
          "output_type": "execute_result",
          "data": {
            "text/plain": [
              "(50, 60)"
            ]
          },
          "metadata": {},
          "execution_count": 28
        }
      ]
    },
    {
      "cell_type": "code",
      "source": [
        "l3=list_of_tuples[2][:-1]+(100,)\n",
        "l3"
      ],
      "metadata": {
        "colab": {
          "base_uri": "https://localhost:8080/"
        },
        "id": "qyvdKrzTSc0r",
        "outputId": "e865199e-1279-45dd-85bf-0c75a4133cbe"
      },
      "execution_count": 29,
      "outputs": [
        {
          "output_type": "execute_result",
          "data": {
            "text/plain": [
              "(50, 60, 100)"
            ]
          },
          "metadata": {},
          "execution_count": 29
        }
      ]
    },
    {
      "cell_type": "code",
      "source": [
        "li=l1+[l3]    #[l3]- converting (l3) tuple into list and concat \n",
        "li"
      ],
      "metadata": {
        "colab": {
          "base_uri": "https://localhost:8080/"
        },
        "id": "LseE_63TVCLd",
        "outputId": "7eaac1fa-c4c4-4d52-9cb2-5c00fcd39214"
      },
      "execution_count": 46,
      "outputs": [
        {
          "output_type": "execute_result",
          "data": {
            "text/plain": [
              "[(10, 20, 30), (30, 40, 50), (50, 60, 100)]"
            ]
          },
          "metadata": {},
          "execution_count": 46
        }
      ]
    },
    {
      "cell_type": "markdown",
      "source": [
        "\n",
        "\n",
        "---\n",
        "\n"
      ],
      "metadata": {
        "id": "XapNb7RlVR9W"
      }
    },
    {
      "cell_type": "code",
      "source": [
        "# Your code here \n",
        "\n",
        "list1=list_of_tuples[:-1]+[list_of_tuples[2][:-1]+(100,)]\n",
        "\n",
        "# Print the output list1\n",
        "print(list1)"
      ],
      "metadata": {
        "colab": {
          "base_uri": "https://localhost:8080/"
        },
        "id": "LBHY8l5oUzP_",
        "outputId": "7d0ab5e1-0aa1-4b0e-c712-400ee9d1929c"
      },
      "execution_count": 38,
      "outputs": [
        {
          "output_type": "stream",
          "name": "stdout",
          "text": [
            "[(10, 20, 30), (30, 40, 50), (50, 60, 100)]\n"
          ]
        }
      ]
    },
    {
      "cell_type": "markdown",
      "metadata": {
        "id": "ejRCi-vTs8CU"
      },
      "source": [
        "## <u> Problem 3 </u>\n",
        "\n",
        "Natural Language Processing or NLP is one of the most promising fields in Machine Learning. Most of the times in NLP we deal with the textual data (a bunch of strings). Sometimes when we are processing the text, it is a common practice to get rid of some set of stop words from our original text. By default stop words are very common words used in English language such as and, or, punctuations etc.\n",
        "\n",
        "In this exercise, you are provided with a default set of stop words and you need to add some extra set of custom words."
      ]
    },
    {
      "cell_type": "code",
      "metadata": {
        "id": "C5olNuDGs8CU",
        "colab": {
          "base_uri": "https://localhost:8080/"
        },
        "outputId": "1a89f4c7-afe1-4fc8-bb24-ef4e7572f724"
      },
      "source": [
        "# A sample sentence \n",
        "\n",
        "sentence = 'Hello, good morning folks! Today we will announce the half yearly performance results of the company. Due to the ongoing COVID-19 pandemic, our profits have declined by 60% as compared to the last half yearly results'\n",
        "\n",
        "# Print your sentence\n",
        "print(sentence)"
      ],
      "execution_count": 48,
      "outputs": [
        {
          "output_type": "stream",
          "name": "stdout",
          "text": [
            "Hello, good morning folks! Today we will announce the half yearly performance results of the company. Due to the ongoing COVID-19 pandemic, our profits have declined by 60% as compared to the last half yearly results\n"
          ]
        }
      ]
    },
    {
      "cell_type": "code",
      "metadata": {
        "id": "B4afm8gCs8CY"
      },
      "source": [
        "# Default set of stop words \n",
        "stop_words = {\"i\", \"me\", \"my\", \"myself\", \"we\", \"our\", \"ours\", \"ourselves\", \"you\", \"your\", \"yours\", \"yourself\", \n",
        "              \"yourselves\", \"he\", \"him\", \"his\", \"himself\", \"she\", \"her\", \"hers\", \"herself\", \"it\", \"its\", \"itself\",\n",
        "              \"they\", \"them\", \"their\", \"theirs\", \"themselves\", \"what\", \"which\", \"who\", \"whom\", \"this\", \"that\",\n",
        "              \"these\", \"those\", \"am\", \"is\", \"are\", \"was\", \"were\", \"be\", \"been\", \"being\", \"have\", \"has\", \"had\",\n",
        "              \"having\", \"do\", \"does\", \"did\", \"doing\", \"a\", \"an\", \"the\", \"and\", \"but\", \"if\", \"or\", \"because\",\n",
        "              \"as\", \"until\", \"while\", \"of\", \"at\", \"by\", \"for\", \"with\", \"about\", \"against\", \"between\", \"into\",\n",
        "              \"through\", \"during\", \"before\", \"after\", \"above\", \"below\", \"to\", \"from\", \"up\", \"down\", \"in\", \"out\", \n",
        "              \"on\", \"off\", \"over\", \"under\", \"again\", \"further\", \"then\", \"once\", \"here\", \"there\", \"when\", \"where\",\n",
        "              \"why\", \"how\", \"all\", \"any\", \"both\", \"each\", \"few\", \"more\", \"most\", \"other\", \"some\", \"such\", \"no\",\n",
        "              \"nor\", \"not\", \"only\", \"own\", \"same\", \"so\", \"than\", \"too\", \"very\", \"s\", \"t\", \"can\", \"will\", \"just\",\n",
        "              \"don\", \"should\", \"now\"}\n"
      ],
      "execution_count": 45,
      "outputs": []
    },
    {
      "cell_type": "code",
      "metadata": {
        "id": "evgHHnRks8Cc",
        "colab": {
          "base_uri": "https://localhost:8080/"
        },
        "outputId": "a2cb0e32-6415-449c-df4c-8a6824d888d7"
      },
      "source": [
        "# Update the set of stop words by adding the custom stop words\n",
        "custom_stop_words = [\"hello\",\"good\",\"morning\",\"half\",\"yearly\"]\n",
        "\n",
        "# Your code here\n",
        "\n",
        "stop_words.update(sentence)\n",
        "\n",
        "# Print the updated stop words\n",
        "\n",
        "print(stop_words)"
      ],
      "execution_count": 50,
      "outputs": [
        {
          "output_type": "stream",
          "name": "stdout",
          "text": [
            "{'their', 'our', 'T', 'how', 'does', 'w', 'yourselves', 'there', 'those', 'o', 'doing', 'i', 'than', 'themselves', 'can', 'so', 'too', 'while', 'did', 'the', 'same', 'should', 'p', 'you', 'will', 'having', 'me', 'few', 'and', 'hers', 'who', 'is', 'were', 'he', 'them', 'what', 'her', 'why', 'don', 'up', 'during', 'D', 'your', 'when', 'theirs', 'each', '0', 'they', 'yours', 'be', 'above', 'own', 'very', 'C', '%', 'n', 'for', 'myself', 'u', 'that', 'have', 'with', 'but', 'e', 'only', 'from', '!', 'him', 'do', 'down', 't', 'if', 'through', 'on', 'whom', ' ', 'y', 'until', 'ours', 'as', 'we', 'about', 'been', 'into', 'she', 'again', 'was', 'herself', 'am', 'once', 'b', 'in', 'd', 'or', '1', 'where', 'by', ',', 'c', 'further', '.', '6', 'at', 'under', 'against', 'm', 'yourself', 'himself', 'I', 'O', 'off', 'l', 'these', 'such', 'more', 'it', 'to', 'a', 'all', 'itself', 'now', 'r', 'any', 'other', 'f', 'are', 'some', 'ourselves', 'most', 'had', 'H', 'this', 'k', 'no', 'being', 'over', 'h', 'not', 'before', 'g', 'both', 's', 'has', 'its', 'between', 'my', 'here', 'nor', 'then', '-', 'which', 'just', 'v', '9', 'V', 'his', 'below', 'because', 'of', 'after', 'an', 'out'}\n"
          ]
        }
      ]
    },
    {
      "cell_type": "code",
      "metadata": {
        "id": "1QbZrotrtIE3",
        "colab": {
          "base_uri": "https://localhost:8080/"
        },
        "outputId": "d176a359-bcd5-4e6b-94cf-382911e9a928"
      },
      "source": [
        "# Do the same task another way. Keep in mind to use the original set of stop_words for this piece of code\n",
        "\n",
        "another_way =list(stop_words) + custom_stop_words\n",
        "# Print the updated stop words\n",
        "\n",
        "print(another_way)"
      ],
      "execution_count": 51,
      "outputs": [
        {
          "output_type": "stream",
          "name": "stdout",
          "text": [
            "['their', 'our', 'T', 'how', 'does', 'w', 'yourselves', 'there', 'those', 'o', 'doing', 'i', 'than', 'themselves', 'can', 'so', 'too', 'while', 'did', 'the', 'same', 'should', 'p', 'you', 'will', 'having', 'me', 'few', 'and', 'hers', 'who', 'is', 'were', 'he', 'them', 'what', 'her', 'why', 'don', 'up', 'during', 'D', 'your', 'when', 'theirs', 'each', '0', 'they', 'yours', 'be', 'above', 'own', 'very', 'C', '%', 'n', 'for', 'myself', 'u', 'that', 'have', 'with', 'but', 'e', 'only', 'from', '!', 'him', 'do', 'down', 't', 'if', 'through', 'on', 'whom', ' ', 'y', 'until', 'ours', 'as', 'we', 'about', 'been', 'into', 'she', 'again', 'was', 'herself', 'am', 'once', 'b', 'in', 'd', 'or', '1', 'where', 'by', ',', 'c', 'further', '.', '6', 'at', 'under', 'against', 'm', 'yourself', 'himself', 'I', 'O', 'off', 'l', 'these', 'such', 'more', 'it', 'to', 'a', 'all', 'itself', 'now', 'r', 'any', 'other', 'f', 'are', 'some', 'ourselves', 'most', 'had', 'H', 'this', 'k', 'no', 'being', 'over', 'h', 'not', 'before', 'g', 'both', 's', 'has', 'its', 'between', 'my', 'here', 'nor', 'then', '-', 'which', 'just', 'v', '9', 'V', 'his', 'below', 'because', 'of', 'after', 'an', 'out', 'hello', 'good', 'morning', 'half', 'yearly']\n"
          ]
        }
      ]
    },
    {
      "cell_type": "markdown",
      "metadata": {
        "id": "P1rOYC8Is8Cf"
      },
      "source": [
        "## <u>Problem 4</u>\n",
        "\n",
        " Write a Python script to check whether a given key already exists in a dictionary. If it does, drop that key from the dictionary. If it does not, add that key and corresponding value to the dictionary"
      ]
    },
    {
      "cell_type": "code",
      "metadata": {
        "id": "ySeGyCtCs8Cg"
      },
      "source": [
        "# Your dictionary\n",
        "employee_dict = {'Name':'Sanket','Skills':['Python','Machine Learning','Deep Learning'],'Band':6.0,\n",
        "                 'Promotion Year':[2016,2018,2020]}"
      ],
      "execution_count": 81,
      "outputs": []
    },
    {
      "cell_type": "code",
      "metadata": {
        "id": "MI7mOHaqs8Cj"
      },
      "source": [
        "# Check if the key 'Employee_ID' is present in the dictionary. Hint : use a boolean variable to store this value\n",
        "\n",
        "'Employee_ID' in employee_dict\n",
        "\n",
        "# If not present add this key to this dictionary and the corresponding value to be 4503233\n",
        "\n",
        "employee_dict.update({'Employee_ID':4503233})"
      ],
      "execution_count": 89,
      "outputs": []
    },
    {
      "cell_type": "code",
      "metadata": {
        "id": "ARPbZfY8s8Co",
        "colab": {
          "base_uri": "https://localhost:8080/"
        },
        "outputId": "f61855aa-78af-4812-f314-b17b5b590ea3"
      },
      "source": [
        "# Check if the key 'Band' is present in the dictionary.\n",
        "\n",
        "'Band' in employee_dict\n",
        "\n",
        "# If present, drop this key from the dictionary\n",
        "\n",
        "employee_dict.pop('Band')\n"
      ],
      "execution_count": 83,
      "outputs": [
        {
          "output_type": "execute_result",
          "data": {
            "text/plain": [
              "6.0"
            ]
          },
          "metadata": {},
          "execution_count": 83
        }
      ]
    },
    {
      "cell_type": "code",
      "metadata": {
        "id": "lUDbbyXmulzh",
        "colab": {
          "base_uri": "https://localhost:8080/"
        },
        "outputId": "2efc6d4f-48be-4a87-b01d-25ea79238fd2"
      },
      "source": [
        "# Print the updated dictionary\n",
        "\n",
        "print(employee_dict)"
      ],
      "execution_count": 84,
      "outputs": [
        {
          "output_type": "stream",
          "name": "stdout",
          "text": [
            "{'Name': 'Sanket', 'Skills': ['Python', 'Machine Learning', 'Deep Learning'], 'Promotion Year': [2016, 2018, 2020], 'Employee_ID': 4503233}\n"
          ]
        }
      ]
    },
    {
      "cell_type": "markdown",
      "source": [
        "\n",
        "\n",
        "---\n",
        "\n"
      ],
      "metadata": {
        "id": "IyNEvfKXc5mV"
      }
    },
    {
      "cell_type": "code",
      "source": [
        "employee_dict = {'Name':'Sanket','Skills':['Python','Machine Learning','Deep Learning'],'Band':6.0,\n",
        "                 'Promotion Year':[2016,2018,2020]}"
      ],
      "metadata": {
        "id": "y-Xf2V8Wc69P"
      },
      "execution_count": 91,
      "outputs": []
    },
    {
      "cell_type": "code",
      "source": [
        "del employee_dict['Band']\n",
        "print(employee_dict)"
      ],
      "metadata": {
        "colab": {
          "base_uri": "https://localhost:8080/"
        },
        "id": "Bxr0LU1hauws",
        "outputId": "55907ad9-939a-4bd3-f55b-8abca1b90ab9"
      },
      "execution_count": 92,
      "outputs": [
        {
          "output_type": "stream",
          "name": "stdout",
          "text": [
            "{'Name': 'Sanket', 'Skills': ['Python', 'Machine Learning', 'Deep Learning'], 'Promotion Year': [2016, 2018, 2020]}\n"
          ]
        }
      ]
    }
  ]
}