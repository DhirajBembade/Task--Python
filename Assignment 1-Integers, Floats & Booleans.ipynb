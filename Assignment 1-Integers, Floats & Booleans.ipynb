{
  "nbformat": 4,
  "nbformat_minor": 0,
  "metadata": {
    "colab": {
      "provenance": [],
      "authorship_tag": "ABX9TyMhjZSQSVYBRuVJn84SRl6g",
      "include_colab_link": true
    },
    "kernelspec": {
      "name": "python3",
      "display_name": "Python 3"
    },
    "language_info": {
      "name": "python"
    }
  },
  "cells": [
    {
      "cell_type": "markdown",
      "metadata": {
        "id": "view-in-github",
        "colab_type": "text"
      },
      "source": [
        "<a href=\"https://colab.research.google.com/github/DhirajBembade/Task--Python/blob/main/Assignment%201-Integers%2C%20Floats%20%26%20Booleans.ipynb\" target=\"_parent\"><img src=\"https://colab.research.google.com/assets/colab-badge.svg\" alt=\"Open In Colab\"/></a>"
      ]
    },
    {
      "cell_type": "markdown",
      "source": [
        "# **Assignment Integers, Floats & Booleans-** \n",
        "\n",
        "\n",
        "---\n",
        "\n"
      ],
      "metadata": {
        "id": "cbQ_fdiM2XQu"
      }
    },
    {
      "cell_type": "markdown",
      "source": [
        "# **Problem 1**\n",
        "\n",
        "\n",
        "In a cricket tournament, based on the outcome of a particular match a team gets following points:<br>\n",
        "\n",
        "*   wins gets 3 points<br>\n",
        "*   draws gets 1 points<br>\n",
        "*   losses gets 0 points<br>\n",
        "\n",
        "Team Aravali plays 8 matches in this tournament. It wins 4 matches, losses 3 matches and draws 1. What is the total number of points gained by the Team Aravali"
      ],
      "metadata": {
        "id": "VwpXFvuD3BRg"
      }
    },
    {
      "cell_type": "code",
      "source": [
        "# The outcome of Team Aravali variables are defined below\n",
        "wins = 4\n",
        "losses = 3\n",
        "draws = 1"
      ],
      "metadata": {
        "id": "op4iGh7Z2nwl"
      },
      "execution_count": 82,
      "outputs": []
    },
    {
      "cell_type": "code",
      "source": [
        "# Calculate the total points gained by Team Aravali\n",
        "\n",
        "AP = wins*3+losses*0+draws*1   #  addition [ T matches & multiplied with points] \n",
        "print(\"aravali_points = \", AP)"
      ],
      "metadata": {
        "colab": {
          "base_uri": "https://localhost:8080/"
        },
        "id": "f5gfFveU4spk",
        "outputId": "5e8db4ef-2e31-4b98-e0ba-5de98d009cd5"
      },
      "execution_count": 83,
      "outputs": [
        {
          "output_type": "stream",
          "name": "stdout",
          "text": [
            "aravali_points =  13\n"
          ]
        }
      ]
    },
    {
      "cell_type": "markdown",
      "source": [
        "\n",
        "\n",
        "---\n",
        "\n"
      ],
      "metadata": {
        "id": "H0wJ4n956oQC"
      }
    },
    {
      "cell_type": "markdown",
      "source": [
        "## **Problem 2**\n",
        "\n",
        "* Root of a function f(x)  is defined as the value x  where f(x)=0\n",
        "\n",
        "* Consider a quadratic function f(x)= x^2+3x-4\n",
        "\n",
        "**Find the value of the function f(x) at points x=2, x=-1, x= 1** "
      ],
      "metadata": {
        "id": "couQKoMg6tKD"
      }
    },
    {
      "cell_type": "code",
      "source": [
        "# Calculate the value of the function f(x) at x = 2\n",
        "# func_evaluated_at_2 = \n",
        "\n",
        "x=2\n",
        "\n",
        "func_evaluated_at_2 = (x**2)+3*x-4 \n",
        "print(\"func_evaluated_at_2 = \", func_evaluated_at_2 )"
      ],
      "metadata": {
        "colab": {
          "base_uri": "https://localhost:8080/"
        },
        "id": "_EV1zdB87ynm",
        "outputId": "6d2f949f-a1ee-4028-9fd6-d43fde1b0657"
      },
      "execution_count": 84,
      "outputs": [
        {
          "output_type": "stream",
          "name": "stdout",
          "text": [
            "func_evaluated_at_2 =  6\n"
          ]
        }
      ]
    },
    {
      "cell_type": "code",
      "source": [
        "# Calculate the value of the function f(x) at x = -1\n",
        "# func_evaluated_at_minus1 = \n",
        "\n",
        "x=-1\n",
        "\n",
        "func_evaluated_at_minus1 = (x**2)+3*x-4\n",
        "func_evaluated_at_minus1 # print"
      ],
      "metadata": {
        "colab": {
          "base_uri": "https://localhost:8080/"
        },
        "id": "FNTqQjLq-KsA",
        "outputId": "2a23786c-0816-4cfb-b17b-19099cdb89d7"
      },
      "execution_count": 85,
      "outputs": [
        {
          "output_type": "execute_result",
          "data": {
            "text/plain": [
              "-6"
            ]
          },
          "metadata": {},
          "execution_count": 85
        }
      ]
    },
    {
      "cell_type": "code",
      "source": [
        "# Calculate the value of the function f(x) at x = 1\n",
        "# func_evaluated_at_1 = \n",
        "\n",
        "x=1\n",
        "\n",
        "func_evaluated_at_1 = x**2 +3*x - 4\n",
        "func_evaluated_at_1"
      ],
      "metadata": {
        "colab": {
          "base_uri": "https://localhost:8080/"
        },
        "id": "wbOJeCMM_HqG",
        "outputId": "976c09c3-3937-4e11-d532-23b6ccd988b6"
      },
      "execution_count": 32,
      "outputs": [
        {
          "output_type": "execute_result",
          "data": {
            "text/plain": [
              "0"
            ]
          },
          "metadata": {},
          "execution_count": 32
        }
      ]
    },
    {
      "cell_type": "markdown",
      "source": [
        "##***Return the boolean for each value of x to find out whether that value is a root of f(x)***"
      ],
      "metadata": {
        "id": "mMj_zJbs_elb"
      }
    },
    {
      "cell_type": "code",
      "source": [
        "# Check whether 2 is a root of f(x) \n",
        "\n",
        "func_evaluated_at_2 == 0   # Any string is True, except empty strings.\n",
        "                           # Any number is True, except 0.\n",
        "                           # Any list, tuple, set, and dictionary are True, except empty ones."
      ],
      "metadata": {
        "colab": {
          "base_uri": "https://localhost:8080/"
        },
        "id": "BlpDAcbC_eD9",
        "outputId": "12f66115-4c00-46a0-bb3f-1bb48ae53dc1"
      },
      "execution_count": 86,
      "outputs": [
        {
          "output_type": "execute_result",
          "data": {
            "text/plain": [
              "False"
            ]
          },
          "metadata": {},
          "execution_count": 86
        }
      ]
    },
    {
      "cell_type": "code",
      "source": [
        "# Check whether -1 is a root of f(x)\n",
        "\n",
        "func_evaluated_at_minus1==0"
      ],
      "metadata": {
        "colab": {
          "base_uri": "https://localhost:8080/"
        },
        "id": "p-7lkcD8KBVo",
        "outputId": "9e7d0c94-447f-43f4-d013-ef5e49443b31"
      },
      "execution_count": 87,
      "outputs": [
        {
          "output_type": "execute_result",
          "data": {
            "text/plain": [
              "False"
            ]
          },
          "metadata": {},
          "execution_count": 87
        }
      ]
    },
    {
      "cell_type": "code",
      "source": [
        "# Check whether 1 is a root of f(x)\n",
        "\n",
        "func_evaluated_at_1==0"
      ],
      "metadata": {
        "colab": {
          "base_uri": "https://localhost:8080/"
        },
        "id": "O51r8UMFLcGA",
        "outputId": "be61b7b8-6dc6-4291-e413-5fa5c32aaf17"
      },
      "execution_count": 88,
      "outputs": [
        {
          "output_type": "execute_result",
          "data": {
            "text/plain": [
              "True"
            ]
          },
          "metadata": {},
          "execution_count": 88
        }
      ]
    },
    {
      "cell_type": "markdown",
      "source": [
        "\n",
        "\n",
        "---\n",
        "\n"
      ],
      "metadata": {
        "id": "S-4p0RFWL2Ki"
      }
    },
    {
      "cell_type": "markdown",
      "source": [
        "# **Problem 3**\n",
        "\n",
        "A bag contains 45 apples, 65 oranges and 30 bananas. Find the percentage of each type of food items in the bag."
      ],
      "metadata": {
        "id": "1uB7Dd34L3m5"
      }
    },
    {
      "cell_type": "code",
      "source": [
        "# Taking 3 variable\n",
        "apples =45   \n",
        "oranges=65\n",
        "bananas=30\n",
        "\n",
        "sum = apples + oranges + bananas # Total bag items\n",
        "\n",
        "# Calculate the percentage of apples and print the variable\n",
        "\n",
        "percentage_apple = apples/sum * 100   #Percentage formula = (Value/Total value) × 100\n",
        "print(\"percentage_apple=\",percentage_apple)  \n",
        "\n",
        "\n"
      ],
      "metadata": {
        "colab": {
          "base_uri": "https://localhost:8080/"
        },
        "id": "2XByyDEkMPhw",
        "outputId": "09fe333c-014a-478a-afcf-9931ba1c2d93"
      },
      "execution_count": 89,
      "outputs": [
        {
          "output_type": "stream",
          "name": "stdout",
          "text": [
            "percentage_apple= 32.142857142857146\n"
          ]
        }
      ]
    },
    {
      "cell_type": "code",
      "source": [
        "\n",
        "# Calculate the percentage of oranges and print the variable\n",
        "\n",
        "percentage_oranges = oranges/sum *100\n",
        "print(\"percentage_oranges=\",percentage_oranges)\n"
      ],
      "metadata": {
        "colab": {
          "base_uri": "https://localhost:8080/"
        },
        "id": "L3xLUZQwOwAM",
        "outputId": "a9e18f43-e453-415f-d9c1-0ed6eaf6c2fd"
      },
      "execution_count": 90,
      "outputs": [
        {
          "output_type": "stream",
          "name": "stdout",
          "text": [
            "percentage_oranges= 46.42857142857143\n"
          ]
        }
      ]
    },
    {
      "cell_type": "code",
      "source": [
        "# Calculate the percentage of bananas and print the variable\n",
        "\n",
        "percentage_bananas = bananas/sum *100\n",
        "print(\"percentage_bananas\",percentage_bananas)"
      ],
      "metadata": {
        "colab": {
          "base_uri": "https://localhost:8080/"
        },
        "id": "I7tDqoOoPpNs",
        "outputId": "69c850ca-f2ec-462f-88ca-c4b982074ee5"
      },
      "execution_count": 91,
      "outputs": [
        {
          "output_type": "stream",
          "name": "stdout",
          "text": [
            "percentage_bananas 21.428571428571427\n"
          ]
        }
      ]
    },
    {
      "cell_type": "markdown",
      "source": [
        "\n",
        "---\n",
        "\n"
      ],
      "metadata": {
        "id": "0h4WfdtaQFgf"
      }
    },
    {
      "cell_type": "markdown",
      "source": [
        "# **Problem 4**\n",
        "\n",
        "You were playing a fun guessing game during your school break. There were a total of 100 participants excluding you. Out of these 100 people, 30 were Maths Majors, 45 were Economics Majors and 25 were Physics Majors.\n",
        "\n",
        "The game was divided into three rounds.\n",
        "\n",
        "* In the first round, you had to guess the number of Maths Majors and you **correctly** guessed 20 of them.\n",
        "* In the second round, you had to guess the number of Economics Majors and you **correctly** guessed 30 of them.\n",
        "* In the final third round, you had to guess the number of Physics Majors and you **correctly** guessed 20 of them.\n",
        "\n",
        " ## Accuracy is defined as the number of   correct guesses upon total number of people in the group (expressed in percentage)\n",
        "\n",
        "\n"
      ],
      "metadata": {
        "id": "aB_21nT9QJR-"
      }
    },
    {
      "cell_type": "markdown",
      "source": [
        "##  **# Define your variables**\n",
        "\n",
        "Defined Variables:"
      ],
      "metadata": {
        "id": "tQn4q6MWRmRT"
      }
    },
    {
      "cell_type": "code",
      "source": [
        "# Store the number of Maths majors\n",
        "\n",
        "maths_major = 30   # Given Data"
      ],
      "metadata": {
        "id": "pf00cr8dRoYO"
      },
      "execution_count": 50,
      "outputs": []
    },
    {
      "cell_type": "code",
      "source": [
        "# Store the number of Economics majors\n",
        "\n",
        "economics_majors = 45"
      ],
      "metadata": {
        "id": "AxCCKrn7Sba3"
      },
      "execution_count": 51,
      "outputs": []
    },
    {
      "cell_type": "code",
      "source": [
        "# Store the number of Physics majors\n",
        "\n",
        "physics_majors = 25"
      ],
      "metadata": {
        "id": "jqHcq5NaSfyq"
      },
      "execution_count": 52,
      "outputs": []
    },
    {
      "cell_type": "code",
      "source": [
        "# Store the number of your correct guesses of Maths majors\n",
        "\n",
        "maths_majors_correct_guesses = 20"
      ],
      "metadata": {
        "id": "WvnEhu21SqKp"
      },
      "execution_count": 67,
      "outputs": []
    },
    {
      "cell_type": "code",
      "source": [
        "# Store the number of your correct guesses of Economics majors\n",
        "\n",
        "economics_majors_correct_guesses = 30"
      ],
      "metadata": {
        "id": "ED2dx71ZS91Q"
      },
      "execution_count": 68,
      "outputs": []
    },
    {
      "cell_type": "code",
      "source": [
        "# Store the number of your correct guesses of Physics majors\n",
        "\n",
        "physics_majors_correct_guesses = 20"
      ],
      "metadata": {
        "id": "eZvLp8isThJv"
      },
      "execution_count": 69,
      "outputs": []
    },
    {
      "cell_type": "markdown",
      "source": [
        "## **#Calculate your accuracy in each of the three rounds**\n",
        "\n",
        "\n",
        "Calculation:"
      ],
      "metadata": {
        "id": "NrY_C-uyTwyp"
      }
    },
    {
      "cell_type": "code",
      "source": [
        "# Print the Maths accuracy\n",
        "A=maths_majors_correct_guesses #20\n",
        "B=maths_major #30\n",
        "\n",
        "Maths_accuracy = A/B*100\n",
        "\n",
        "print(\"Maths_accuracy=\",Maths_accuracy)"
      ],
      "metadata": {
        "colab": {
          "base_uri": "https://localhost:8080/"
        },
        "id": "MS7NXhp8Tm5E",
        "outputId": "b9afd536-e38f-4aa8-a096-e69eb6e4b81b"
      },
      "execution_count": 65,
      "outputs": [
        {
          "output_type": "stream",
          "name": "stdout",
          "text": [
            "Maths_accuracy= 66.66666666666666\n"
          ]
        }
      ]
    },
    {
      "cell_type": "code",
      "source": [
        "# Print the Economics accuracy   \n",
        "\n",
        "Economics_accuracy = economics_majors_correct_guesses/economics_majors * 100\n",
        "print(\"Economics_accuracy=\",Economics_accuracy)     #EA=30/45*100"
      ],
      "metadata": {
        "colab": {
          "base_uri": "https://localhost:8080/"
        },
        "id": "25BwTrFLV-mW",
        "outputId": "b50cabad-0574-4704-beee-47c0607a47d4"
      },
      "execution_count": 74,
      "outputs": [
        {
          "output_type": "stream",
          "name": "stdout",
          "text": [
            "Economics_accuracy= 66.66666666666666\n"
          ]
        }
      ]
    },
    {
      "cell_type": "code",
      "source": [
        "# Print the Physics accuracy\n",
        "\n",
        "Physics_accuracy = physics_majors_correct_guesses/physics_majors * 100\n",
        "print(\"Physics_accuracy=\",Physics_accuracy)"
      ],
      "metadata": {
        "colab": {
          "base_uri": "https://localhost:8080/"
        },
        "id": "s48RKn-QYu-9",
        "outputId": "42a29c88-ef22-475a-c882-9799d641bf90"
      },
      "execution_count": 75,
      "outputs": [
        {
          "output_type": "stream",
          "name": "stdout",
          "text": [
            "Physics_accuracy= 80.0\n"
          ]
        }
      ]
    },
    {
      "cell_type": "markdown",
      "source": [
        "## **#Calculate your overall accuracy in the entire game**"
      ],
      "metadata": {
        "id": "jREP559iaCjG"
      }
    },
    {
      "cell_type": "code",
      "source": [
        "# Print the overall accuray\n",
        "\n",
        "OA = Overall_accuracy\n",
        "A = maths_majors_correct_guesses + economics_majors_correct_guesses + physics_majors_correct_guesses\n",
        "B = maths_major + economics_majors + physics_majors\n",
        "\n",
        "OA  = A/B*100              # OA=(A+B+C)/(P+Q+R)*100  # BODMAS Rule\n",
        "print(\"Overall_accuracy=\",OA)   "
      ],
      "metadata": {
        "colab": {
          "base_uri": "https://localhost:8080/"
        },
        "id": "jUzk1whLZ90v",
        "outputId": "317c993a-533e-41dc-bd89-8d6bcfd38bdf"
      },
      "execution_count": 100,
      "outputs": [
        {
          "output_type": "stream",
          "name": "stdout",
          "text": [
            "Overall_accuracy= 70.0\n"
          ]
        }
      ]
    },
    {
      "cell_type": "markdown",
      "source": [
        "\n",
        "\n",
        "---\n",
        "\n"
      ],
      "metadata": {
        "id": "SgFAaivkgdgE"
      }
    }
  ]
}