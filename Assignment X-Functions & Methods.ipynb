{
  "nbformat": 4,
  "nbformat_minor": 0,
  "metadata": {
    "colab": {
      "provenance": [],
      "include_colab_link": true
    },
    "kernelspec": {
      "display_name": "Python 3",
      "language": "python",
      "name": "python3"
    },
    "language_info": {
      "codemirror_mode": {
        "name": "ipython",
        "version": 3
      },
      "file_extension": ".py",
      "mimetype": "text/x-python",
      "name": "python",
      "nbconvert_exporter": "python",
      "pygments_lexer": "ipython3",
      "version": "3.7.3"
    }
  },
  "cells": [
    {
      "cell_type": "markdown",
      "metadata": {
        "id": "view-in-github",
        "colab_type": "text"
      },
      "source": [
        "<a href=\"https://colab.research.google.com/github/DhirajBembade/Task--Python/blob/main/Assignment%20X-Functions%20%26%20Methods.ipynb\" target=\"_parent\"><img src=\"https://colab.research.google.com/assets/colab-badge.svg\" alt=\"Open In Colab\"/></a>"
      ]
    },
    {
      "cell_type": "markdown",
      "metadata": {
        "id": "Aq5jjKHb-zdZ"
      },
      "source": [
        "# <u> Problem 1</u>\n",
        "\n",
        "### Write a function which takes the excel column name as an input and returns the corresponding column number. A few examples are :\n",
        "\n",
        "* column name = <code>'J'</code> , column number = <code>10</code>\n",
        "* column name = <code>'AP'</code> , column number = <code>42</code>\n",
        "* column name = <code>'AAA'</code>, column number = <code>703</code>\n"
      ]
    },
    {
      "cell_type": "code",
      "source": [
        "\n",
        "def get_excel_column_number(column_name):\n",
        "  '''\n",
        "  This functions returns the corresponding column number for an excel column name\n",
        "  '''\n",
        "  # Write your code here\n",
        "  result = 0;\n",
        "  for B in range(len(column_name)):          # Check indentation level\n",
        "    result = result * 26;\n",
        "    result = result + ord(column_name[B]) - ord('A')+1;\n",
        "\n",
        "  return result;"
      ],
      "metadata": {
        "id": "haKvLglqgGZJ"
      },
      "execution_count": null,
      "outputs": []
    },
    {
      "cell_type": "code",
      "metadata": {
        "id": "VFSrFUwP-zdd",
        "colab": {
          "base_uri": "https://localhost:8080/"
        },
        "outputId": "d1b72995-fa93-4567-b409-ddbf603325b6"
      },
      "source": [
        "# Check\n",
        "get_excel_column_number('BD')"
      ],
      "execution_count": null,
      "outputs": [
        {
          "output_type": "execute_result",
          "data": {
            "text/plain": [
              "56"
            ]
          },
          "metadata": {},
          "execution_count": 21
        }
      ]
    },
    {
      "cell_type": "code",
      "metadata": {
        "id": "AZaQlyAc-zde",
        "colab": {
          "base_uri": "https://localhost:8080/"
        },
        "outputId": "3c097284-9314-4099-9f38-268afd7607bf"
      },
      "source": [
        "# Check\n",
        "get_excel_column_number('ALQ')"
      ],
      "execution_count": null,
      "outputs": [
        {
          "output_type": "execute_result",
          "data": {
            "text/plain": [
              "1005"
            ]
          },
          "metadata": {},
          "execution_count": 22
        }
      ]
    },
    {
      "cell_type": "markdown",
      "metadata": {
        "id": "zh_MA_BN-zd5"
      },
      "source": [
        "# <u> Problem 2</u>\n",
        "\n",
        "### We evaluate a standard machine learning classification model using various evaluation metrics. A classification model is a model which classifies a given observation or an event to a fixed set of categories. Suppose I train a machine learning model to classify images of cats and dogs. For each image, the machine classifies the image with either a <code>'Cat'</code> or a <code>'Dog'</code>. So in essence for each input image, there is a corresponding output by the model. This output can either be a <code>'Cat'</code> or a <code>'Dog'</code>.\n",
        "\n",
        "### To evaluate such a machine learning model which is trained to classify a given observation with at most two labels, a lot of candidate evaluation metrics are available. Accuracy is one of such evaluation metrics. \n",
        "\n",
        "### <u> Accuracy defintion </u> : Suppose you are given 20 input images of cats and dogs. You already know from these images that there are 11 cats and 9 dogs. You train a machine learning model to classify these images into cats and dogs. The machine predicts 9 cats correctly and 8 dogs correctly. The accuracy of the model is then defined as (correctly predicted cats and dogs)/(total cats and dogs). In this case it is (9+8)/(11+9) = 17/20 = 0.85 or 85%. It is a good practice to report the accuracy in percentages\n",
        "\n"
      ]
    },
    {
      "cell_type": "markdown",
      "metadata": {
        "id": "cp2SUazju_D7"
      },
      "source": [
        "### You are given two lists each of length 20 : one list contains the actual labels for the images of cats and dogs. The other list contains the predicted labels (by the machine) for the images of cats and dogs.\n",
        "\n",
        "### How to read the two lists ? For example for the first image, actual label is Cat and the predicted label is Cat. For the last image, actual label is Dog and the predicted label is Cat. The same index in the two lists corresponds to the same image"
      ]
    },
    {
      "cell_type": "code",
      "metadata": {
        "id": "BPsQbNPjvjAT"
      },
      "source": [
        "actual_labels = ['Cat','Dog','Cat','Cat','Dog','Cat','Dog','Cat','Cat','Cat','Dog','Dog','Cat','Cat','Cat','Dog','Dog','Dog','Cat','Dog']"
      ],
      "execution_count": null,
      "outputs": []
    },
    {
      "cell_type": "code",
      "metadata": {
        "id": "MDefeYf1v4pT"
      },
      "source": [
        "predicted_labels = ['Cat','Dog','Cat','Cat','Dog','Cat','Dog','Cat','Dog','Dog','Dog','Dog','Cat','Cat','Cat','Dog','Dog','Dog','Cat','Cat']"
      ],
      "execution_count": null,
      "outputs": []
    },
    {
      "cell_type": "markdown",
      "metadata": {
        "id": "hzLROuvWwZAL"
      },
      "source": [
        "### Write a function to calculate the accuracy. This functions takes two lists as inputs and returns the accuracy score in percentage"
      ]
    },
    {
      "cell_type": "code",
      "metadata": {
        "id": "HvDJXfL3-zd6"
      },
      "source": [
        "def calculate_accuracy(actual, predicted):\n",
        "  '''\n",
        "  This functions calculates the accuracy based on two input lists\n",
        "  '''\n",
        "  # Write your code here\n",
        "  \n",
        "  zipped_labels = zip(actual,predicted)\n",
        "  correct = ['correct' for act,pred in zipped_labels if act==pred]     #use the list comrephension\n",
        "  correct_prediction = len(correct)\n",
        "  total_images = len(actual)      #total images\n",
        "  accuracy = round(correct_prediction*100/total_images,2)\n",
        "  return accuracy\n"
      ],
      "execution_count": null,
      "outputs": []
    },
    {
      "cell_type": "code",
      "metadata": {
        "id": "At0m0hcc-zd_",
        "colab": {
          "base_uri": "https://localhost:8080/"
        },
        "outputId": "3d837519-8b8e-499d-a7a0-44d8070c1fda"
      },
      "source": [
        "# Print the accuracy score for the given lists\n",
        "\n",
        "accuracy = calculate_accuracy(actual_labels,predicted_labels)\n",
        "print(accuracy)\n"
      ],
      "execution_count": null,
      "outputs": [
        {
          "output_type": "stream",
          "name": "stdout",
          "text": [
            "85.0\n"
          ]
        }
      ]
    },
    {
      "cell_type": "markdown",
      "metadata": {
        "id": "YyYwXAlax36r"
      },
      "source": [
        "* ### <b><u>Precision</u></b> for cats is defined as the number of correctly predicted cats divided by the number of predicted cats. Report precision in percentages.\n",
        "\n",
        "* ### <b><u>Recall</u></b> for cats is defined as the number of correctly predicted cats divided by the actual number of cats. Report recall in percentages.\n",
        "\n",
        "### We can define the same two metrics for dogs as well. \n"
      ]
    },
    {
      "cell_type": "markdown",
      "metadata": {
        "id": "VwYIek-9yd4n"
      },
      "source": [
        "# <u> Problem 3 </u> \n",
        "\n",
        "### Write a Python function which returns the precision and recall for a given input label. Use the same two lists"
      ]
    },
    {
      "cell_type": "code",
      "source": [
        "\n",
        "def precision_recall(label = 'Dog'):\n",
        "  '''\n",
        "  This functions returns a tuple of precision and recall for a given input label\n",
        "  '''\n",
        "  # Your code here\n",
        "  zipped_labels = zip(actual_labels,predicted_labels)\n",
        "  # for Precision\n",
        "  correct_pred_labels = ['correct' for label1,label2 in zipped_labels if label1==label2 and label1==label]\n",
        "  number_of_correct_pred = len(correct_pred_labels)\n",
        "  number_of_pred_labels = predicted_labels.count(label)\n",
        "  precision = round(number_of_correct_pred*100/number_of_pred_labels,2)\n",
        "\n",
        "  # for Recall\n",
        "  actual_nuber_of_label = actual_labels.count(label)\n",
        "  recall = round(number_of_correct_pred*100/actual_nuber_of_label,2)\n",
        "  # return precision and recall\n",
        "  return precision,recall\n",
        "\n",
        "\n",
        "dog = precision_recall('Dog')\n",
        "print(dog)"
      ],
      "metadata": {
        "colab": {
          "base_uri": "https://localhost:8080/"
        },
        "id": "HAoF2mYqkhqk",
        "outputId": "132fe431-a1ae-4f9a-e090-f0525247158d"
      },
      "execution_count": null,
      "outputs": [
        {
          "output_type": "stream",
          "name": "stdout",
          "text": [
            "(80.0, 88.89)\n"
          ]
        }
      ]
    },
    {
      "cell_type": "markdown",
      "metadata": {
        "id": "I-5eBWXa1Mla"
      },
      "source": [
        "# <u> Problem 4 </u>\n",
        "\n",
        "### Write a Python function which takes a sentence and a length value as inputs and returns the counts of those words from the sentence whose length is equal to the provided input length value.\n",
        "\n",
        "### Suppose if the input for the length value is 5, it will return the count of all those words which are of length 5"
      ]
    },
    {
      "cell_type": "code",
      "metadata": {
        "id": "9ueu9nJx1uUZ"
      },
      "source": [
        "marvel_quote = \"The world has changed and none of us can go back. All we can do is our best, and sometimes the best that we can do is to start over.\""
      ],
      "execution_count": null,
      "outputs": []
    },
    {
      "cell_type": "code",
      "source": [
        "\n",
        "# Your function below. Make sure to remove the special characters such as full stop and comma.\n",
        "def fixed_length_word_counts(sentence, length=3):\n",
        "  '''\n",
        "  This function returns the count of the words with the given input length\n",
        "  '''\n",
        "  # Your code below\n",
        "  \n",
        "  sentence = sentence.replace(',','')\n",
        "  sentence = sentence.replace('.','')\n",
        "  sentence_list = sentence.split(' ')\n",
        "  # main code \n",
        "  words_with_given_input = [word for word in sentence_list if len(word)==length]\n",
        "\n",
        "  count_of_words = len(words_with_given_input)\n",
        "\n",
        "  return count_of_words"
      ],
      "metadata": {
        "id": "A-lV1h1Im7LL"
      },
      "execution_count": null,
      "outputs": []
    },
    {
      "cell_type": "code",
      "metadata": {
        "id": "Px7OQG0j2iab",
        "colab": {
          "base_uri": "https://localhost:8080/"
        },
        "outputId": "612212b4-1c3c-4d4e-c334-21448186921d"
      },
      "source": [
        "# Check on the sample sentence\n",
        "\n",
        "fixed_length_word_counts(marvel_quote, length=3)"
      ],
      "execution_count": null,
      "outputs": [
        {
          "output_type": "execute_result",
          "data": {
            "text/plain": [
              "10"
            ]
          },
          "metadata": {},
          "execution_count": 40
        }
      ]
    },
    {
      "cell_type": "code",
      "source": [
        "fixed_length_word_counts(marvel_quote, length=4)"
      ],
      "metadata": {
        "colab": {
          "base_uri": "https://localhost:8080/"
        },
        "id": "nO7zJEu5nZxk",
        "outputId": "6b4f7ef2-2219-4edb-c666-6d83f2babe02"
      },
      "execution_count": null,
      "outputs": [
        {
          "output_type": "execute_result",
          "data": {
            "text/plain": [
              "6"
            ]
          },
          "metadata": {},
          "execution_count": 42
        }
      ]
    },
    {
      "cell_type": "code",
      "source": [
        "fixed_length_word_counts(marvel_quote, length=5)"
      ],
      "metadata": {
        "colab": {
          "base_uri": "https://localhost:8080/"
        },
        "id": "5Znb34PBnc28",
        "outputId": "dab2b52f-f32b-487a-a158-14adaee322c0"
      },
      "execution_count": null,
      "outputs": [
        {
          "output_type": "execute_result",
          "data": {
            "text/plain": [
              "2"
            ]
          },
          "metadata": {},
          "execution_count": 43
        }
      ]
    }
  ]
}