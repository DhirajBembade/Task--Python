{
  "nbformat": 4,
  "nbformat_minor": 0,
  "metadata": {
    "kernelspec": {
      "display_name": "Python 3",
      "language": "python",
      "name": "python3"
    },
    "language_info": {
      "codemirror_mode": {
        "name": "ipython",
        "version": 3
      },
      "file_extension": ".py",
      "mimetype": "text/x-python",
      "name": "python",
      "nbconvert_exporter": "python",
      "pygments_lexer": "ipython3",
      "version": "3.7.4"
    },
    "colab": {
      "provenance": [],
      "include_colab_link": true
    }
  },
  "cells": [
    {
      "cell_type": "markdown",
      "metadata": {
        "id": "view-in-github",
        "colab_type": "text"
      },
      "source": [
        "<a href=\"https://colab.research.google.com/github/DhirajBembade/Task--Python/blob/main/Assignment%205-Statements%2C%20Indentation%20%26%20Conditionals..ipynb\" target=\"_parent\"><img src=\"https://colab.research.google.com/assets/colab-badge.svg\" alt=\"Open In Colab\"/></a>"
      ]
    },
    {
      "cell_type": "markdown",
      "metadata": {
        "id": "8WbUJEVzs8Bx"
      },
      "source": [
        "## <u>While doing this assignment only use those concepts which have been taught till now</u>"
      ]
    },
    {
      "cell_type": "markdown",
      "metadata": {
        "id": "KjPWYK0Rs8By"
      },
      "source": [
        "## <u>Problem 1</u>\n",
        "\n",
        "### As an analyst, you had to present the quarterly performance results of your client. The data which you were provided was on daily basis. To complete this task, you needed to extract the quarter from a given date. For example:\n",
        "\n",
        "* if the date lies between 1st Jan, 2020 - 31st March, 2020, you need to extract the corresponding quarter as '2020-Q1'\n",
        "\n",
        "* if the date lies between 1st April, 2020 - 30th June, 2020, the extracted quarter will be '2020-Q2'\n",
        "\n",
        "* if the date lies between 1st July, 2020 - 30th September, 2020, the extracted quarter will be '2020-Q3' \n",
        "\n",
        "* if the date lies between 1st October, 2020 - 31st Decemeber, 2020 then the extracted quarter will be '2020-Q4'\n"
      ]
    },
    {
      "cell_type": "code",
      "metadata": {
        "id": "RxVZTrenzfHC",
        "colab": {
          "base_uri": "https://localhost:8080/"
        },
        "outputId": "4630f6fc-30fc-4be6-b572-1d4aa0cac5ce"
      },
      "source": [
        "# Take a proper date input from the user in the format YYYY-MM-DD. Consider this date as a string\n",
        "user_date = input(\"Enter the date in YYYY-MM-DD format:\")"
      ],
      "execution_count": 13,
      "outputs": [
        {
          "name": "stdout",
          "output_type": "stream",
          "text": [
            "Enter the date in YYYY-MM-DD format:2020-05-05\n"
          ]
        }
      ]
    },
    {
      "cell_type": "code",
      "metadata": {
        "id": "N1Yhpkiws8B3"
      },
      "source": [
        "# Write your code using if else statements to extract the quarter\n",
        "date_year = int(user_date[:4])\n",
        "date_month = int(user_date[5:7])\n",
        "\n",
        "# Store the quarter value in a string variable named quarter\n",
        "\n",
        "quarter = ''\n",
        "\n",
        "if date_month >=1 and date_month <4:\n",
        "  quarter = str(date_year) + '-Q1'\n",
        "elif date_month >=4 and date_month <7:\n",
        "  quarter = str(date_year) + '-Q2'\n",
        "elif date_month >=7 and date_month <10:\n",
        "  quarter = str(date_year) + '-Q3'\n",
        "else:\n",
        "  quarter = str(date_year) + '-Q4'"
      ],
      "execution_count": 14,
      "outputs": []
    },
    {
      "cell_type": "code",
      "metadata": {
        "id": "KpMdlB5Fs8B8",
        "colab": {
          "base_uri": "https://localhost:8080/"
        },
        "outputId": "cbdd8857-1574-4318-9c5b-e6a17078ed82"
      },
      "source": [
        "# Print the extracted quarter\n",
        "print(quarter)"
      ],
      "execution_count": 15,
      "outputs": [
        {
          "output_type": "stream",
          "name": "stdout",
          "text": [
            "2020-Q2\n"
          ]
        }
      ]
    },
    {
      "cell_type": "markdown",
      "metadata": {
        "id": "5qd8g8UUs8CM"
      },
      "source": [
        "## <u>Problem 2 </u>\n",
        "\n",
        "* You went out in your local neighbourhood to collect the data of people residing in the locale. You surveyed 5 people and collected some data and stored that in a dictionary. You recorded their names, their age, their sex, their heights(in cms) and their weights(in kgs)"
      ]
    },
    {
      "cell_type": "code",
      "metadata": {
        "id": "FBJy9Sq_s8CN"
      },
      "source": [
        "# Surveyed data \n",
        "\n",
        "locality_data = {'Name' : ['Abhinav','Sohail','Dheeraj','Rashmi','Vaishali'],\n",
        "                  'Age' : [42,29,35,28,32],\n",
        "                  'Sex' : ['Male', 'Male','Male','Female','Female'] , \n",
        "                  'Height' : [172,175,170,168,170],\n",
        "                  'Weight' : [70,82,60,55,64]\n",
        "                 }"
      ],
      "execution_count": 2,
      "outputs": []
    },
    {
      "cell_type": "markdown",
      "metadata": {
        "id": "2_rBSgqz5Ums"
      },
      "source": [
        "* Find the mean and median heights and weights of the people in your locality"
      ]
    },
    {
      "cell_type": "code",
      "metadata": {
        "id": "zywXa51d6Eev",
        "colab": {
          "base_uri": "https://localhost:8080/"
        },
        "outputId": "466da562-dd91-4613-e482-990423fa1aed"
      },
      "source": [
        "# Calculate the mean height and print it\n",
        "\n",
        "mean_height = sum(locality_data['Height'])/len(locality_data['Height'])\n",
        "print(\"mean_height:\",mean_height)\n",
        "\n",
        "\n",
        "# Calculate the median height and print it\n",
        "\n",
        "length_height = len(locality_data['Height'])\n",
        "sorted_height = sorted(locality_data['Height'])\n",
        "\n",
        "\n",
        "median_height = (sorted_height[int(length_height/2)-1])\n",
        "print(\"median_height:\",median_height)\n",
        "\n",
        "# Calculate the mean weight and print it\n",
        "\n",
        "mean_weight = sum(locality_data['Weight'])/len(locality_data['Weight'])\n",
        "print(\"mean_weight:\",mean_weight)\n",
        "\n",
        "\n",
        "# Calculate the median weight and print it\n",
        "\n",
        "length_weight = len(locality_data['Weight'])\n",
        "sorted_weight = sorted(locality_data['Weight'])\n",
        "median_weight = (sorted_weight[int(length_weight/2)-1])\n",
        "print(\"median_weight:\",median_weight)\n",
        "\n"
      ],
      "execution_count": 20,
      "outputs": [
        {
          "output_type": "stream",
          "name": "stdout",
          "text": [
            "mean_height: 171.0\n",
            "median_height: 170\n",
            "mean_weight: 66.2\n",
            "median_weight: 60\n"
          ]
        }
      ]
    },
    {
      "cell_type": "markdown",
      "metadata": {
        "id": "yLb5awgPQeYA"
      },
      "source": [
        "* Write a Python code to print the first three elements from the list of age values corresponding to the key 'Age'"
      ]
    },
    {
      "cell_type": "code",
      "metadata": {
        "id": "wef2fVgx6Gji",
        "colab": {
          "base_uri": "https://localhost:8080/"
        },
        "outputId": "86b8451a-708c-4653-ab7e-b58f5190ab4b"
      },
      "source": [
        "# Python code to print the first three elements for the key 'Age'\n",
        "\n",
        "ages = locality_data['Age'][:3]\n",
        "print(ages)\n"
      ],
      "execution_count": 19,
      "outputs": [
        {
          "output_type": "stream",
          "name": "stdout",
          "text": [
            "[42, 29, 35]\n"
          ]
        }
      ]
    },
    {
      "cell_type": "markdown",
      "metadata": {
        "id": "NGrZaqulRIM1"
      },
      "source": [
        "* Write a Python code to print the last two elements of the name list if the list of values corresponding to the key 'Name' contains the element 'Rashmi' else print 'Name not found'"
      ]
    },
    {
      "cell_type": "code",
      "metadata": {
        "id": "TBRZzwAcRTNL",
        "colab": {
          "base_uri": "https://localhost:8080/"
        },
        "outputId": "fb28da67-4ea8-42e1-9a4e-5c6616a81c50"
      },
      "source": [
        "# Your code below\n",
        "\n",
        "\n",
        "data=locality_data['Name'][2:4]\n",
        "\n",
        "if 'Rashmi' in data:\n",
        "  print(data)\n",
        "else:\n",
        "  print('Name not found')\n",
        "\n",
        "\n"
      ],
      "execution_count": 10,
      "outputs": [
        {
          "output_type": "stream",
          "name": "stdout",
          "text": [
            "['Dheeraj', 'Rashmi']\n"
          ]
        }
      ]
    },
    {
      "cell_type": "markdown",
      "metadata": {
        "id": "ejRCi-vTs8CU"
      },
      "source": [
        "## <u> Problem 3 </u>\n",
        "\n",
        "A student will not be allowed to sit in exam if his/her attendence is less than 75%.\n",
        "\n",
        "Take following input from user\n",
        "* Number of classes held\n",
        "* Number of classes attended."
      ]
    },
    {
      "cell_type": "code",
      "metadata": {
        "id": "C5olNuDGs8CU",
        "colab": {
          "base_uri": "https://localhost:8080/"
        },
        "outputId": "bac7ab34-5d0a-40d1-b485-3d1f6bc9465b"
      },
      "source": [
        "# Enter your input\n",
        "\n",
        "print(\"Number of classes held\")\n",
        "classes_held = int(input())\n",
        "\n",
        "print(\"Number of classes attended\")\n",
        "classes_attended = int(input())"
      ],
      "execution_count": 13,
      "outputs": [
        {
          "name": "stdout",
          "output_type": "stream",
          "text": [
            "Number of classes held\n",
            "100\n",
            "Number of classes attended\n",
            "80\n"
          ]
        }
      ]
    },
    {
      "cell_type": "code",
      "metadata": {
        "id": "i553Hqamm2jR",
        "colab": {
          "base_uri": "https://localhost:8080/"
        },
        "outputId": "732116ac-821d-4d6c-be6e-c8615257b853"
      },
      "source": [
        "# Calculate the attendance percentage\n",
        "attendance = classes_attended*100/classes_held\n",
        "\n",
        "print(f'The attendance is {attendance}')"
      ],
      "execution_count": 17,
      "outputs": [
        {
          "output_type": "stream",
          "name": "stdout",
          "text": [
            "The attendance is 80.0\n"
          ]
        }
      ]
    },
    {
      "cell_type": "markdown",
      "metadata": {
        "id": "QYDpXSANnKxV"
      },
      "source": [
        "And print the following statements based on the condition above\n",
        "\n",
        "* percentage of class attended\n",
        "* Is student is allowed to sit in exam or not."
      ]
    },
    {
      "cell_type": "code",
      "metadata": {
        "id": "SoQ3P0yym2ts",
        "colab": {
          "base_uri": "https://localhost:8080/"
        },
        "outputId": "aee87b4b-e1ec-4c2d-cc7b-aa36a0ca5523"
      },
      "source": [
        "# Your code here \n",
        "\n",
        "if attendance < 75:\n",
        "  print(\"Student is not allowed to sit in exam.\")\n",
        "else:\n",
        "  print(\"Student is allowed to sit in exam.\")\n"
      ],
      "execution_count": 23,
      "outputs": [
        {
          "output_type": "stream",
          "name": "stdout",
          "text": [
            "Student is allowed to sit in exam.\n"
          ]
        }
      ]
    },
    {
      "cell_type": "markdown",
      "metadata": {
        "id": "P1rOYC8Is8Cf"
      },
      "source": [
        "## <u>Problem 4</u>\n",
        "\n",
        "### A school has following rules for grading system:\n",
        "* Below 25 - F\n",
        "* 25 to 45 - E\n",
        "* 45 to 50 - D\n",
        "* 50 to 60 - C\n",
        "* 60 to 80 - B\n",
        "* Above 80 - A\n",
        "\n",
        "Keep the left number inclusive and the right number exclusive, something like [25,45) for grade E where the set is closed at 25 and open at 45.\n",
        "\n",
        "Write a Python code which takes marks as inputs from the user and print the corresponding grade."
      ]
    },
    {
      "cell_type": "code",
      "metadata": {
        "id": "ySeGyCtCs8Cg",
        "colab": {
          "base_uri": "https://localhost:8080/"
        },
        "outputId": "0ab5d00e-dbb6-4a59-dfdd-fc7f668d1525"
      },
      "source": [
        "# Your input here \n",
        "print(\"Enter your marks\")\n",
        "marks = int(input())"
      ],
      "execution_count": 27,
      "outputs": [
        {
          "name": "stdout",
          "output_type": "stream",
          "text": [
            "Enter your marks\n",
            "82\n"
          ]
        }
      ]
    },
    {
      "cell_type": "code",
      "metadata": {
        "id": "MI7mOHaqs8Cj",
        "colab": {
          "base_uri": "https://localhost:8080/"
        },
        "outputId": "6b847079-d3c2-4de0-ebb5-ccfb36df1e0d"
      },
      "source": [
        "# Your code here to print the corresponding grade\n",
        "\n",
        "\n",
        "if marks <= 25:\n",
        "    print(\"F\")\n",
        "elif marks>25 and marks <= 45:\n",
        "    print(\"E\")\n",
        "elif marks>45 and marks <= 50:\n",
        "    print(\"D\")\n",
        "elif marks>50 and marks <= 60:\n",
        "    print(\"C\")\n",
        "elif marks>60 and marks <= 80:\n",
        "    print(\"B\")\n",
        "else :\n",
        "    marks>80\n",
        "    print(\"A\")"
      ],
      "execution_count": 31,
      "outputs": [
        {
          "output_type": "stream",
          "name": "stdout",
          "text": [
            "A\n"
          ]
        }
      ]
    }
  ]
}