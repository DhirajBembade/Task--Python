{
  "nbformat": 4,
  "nbformat_minor": 0,
  "metadata": {
    "kernelspec": {
      "display_name": "Python 3",
      "language": "python",
      "name": "python3"
    },
    "language_info": {
      "codemirror_mode": {
        "name": "ipython",
        "version": 3
      },
      "file_extension": ".py",
      "mimetype": "text/x-python",
      "name": "python",
      "nbconvert_exporter": "python",
      "pygments_lexer": "ipython3",
      "version": "3.7.4"
    },
    "colab": {
      "provenance": [],
      "include_colab_link": true
    }
  },
  "cells": [
    {
      "cell_type": "markdown",
      "metadata": {
        "id": "view-in-github",
        "colab_type": "text"
      },
      "source": [
        "<a href=\"https://colab.research.google.com/github/DhirajBembade/Task--Python/blob/main/Assignment%206-Introduction%20to%20Lists.ipynb\" target=\"_parent\"><img src=\"https://colab.research.google.com/assets/colab-badge.svg\" alt=\"Open In Colab\"/></a>"
      ]
    },
    {
      "cell_type": "markdown",
      "metadata": {
        "id": "t4O7WDUFjkFq"
      },
      "source": [
        "## <u>While doing this assignment only use those concepts which have been taught till now</u>"
      ]
    },
    {
      "cell_type": "markdown",
      "metadata": {
        "id": "KB9ZI2xAjkF6"
      },
      "source": [
        "## <u>Problem 1</u>\n",
        "\n",
        "A list contains the average daily temperature(in degree Celsius) of a city over a particular week. Write a Python code to swap the highest and the lowest temperatures"
      ]
    },
    {
      "cell_type": "code",
      "metadata": {
        "id": "O3ZtUcxsjkF7"
      },
      "source": [
        "# A list containing average daily temperature over a week \n",
        "temperatures = [34, 40, 29, 33, 42, 37, 39 ]\n",
        "\n",
        "# The expected output \n",
        "# output_temperatures = [34, 40, 42, 33, 29, 37, 39]"
      ],
      "execution_count": 1,
      "outputs": []
    },
    {
      "cell_type": "code",
      "source": [
        "# Store the highest temperature\n",
        "max_temp = max(temperatures)\n",
        "\n",
        "# Index of the element with the highest temperature\n",
        "max_temp_index = temperatures.index(max_temp)"
      ],
      "metadata": {
        "id": "W5GpAyw0WWsN"
      },
      "execution_count": 2,
      "outputs": []
    },
    {
      "cell_type": "code",
      "source": [
        "# Store the lowest temperature \n",
        "min_temp = min(temperatures)\n",
        "\n",
        "# Index of the element with the lowest temperature\n",
        "min_temp_index = temperatures.index(min_temp)"
      ],
      "metadata": {
        "id": "Afx2w__zWcxb"
      },
      "execution_count": 3,
      "outputs": []
    },
    {
      "cell_type": "code",
      "source": [
        "# Swap the highest and the lowest temperatures\n",
        "\n",
        "temperatures[max_temp_index]=min_temp   \n",
        "\n",
        "temperatures[min_temp_index]=max_temp   "
      ],
      "metadata": {
        "id": "Er9Ma3VpWigb"
      },
      "execution_count": 4,
      "outputs": []
    },
    {
      "cell_type": "code",
      "metadata": {
        "id": "2UpeOQ7qjkGg",
        "colab": {
          "base_uri": "https://localhost:8080/"
        },
        "outputId": "257267d1-11d5-48e3-af24-cd22e8f9e69f"
      },
      "source": [
        "# Print the output list\n",
        "print(temperatures)"
      ],
      "execution_count": 5,
      "outputs": [
        {
          "output_type": "stream",
          "name": "stdout",
          "text": [
            "[34, 40, 42, 33, 29, 37, 39]\n"
          ]
        }
      ]
    },
    {
      "cell_type": "markdown",
      "source": [
        "\n",
        "\n",
        "---\n",
        "\n"
      ],
      "metadata": {
        "id": "gpJOB-CQWx3y"
      }
    },
    {
      "cell_type": "markdown",
      "metadata": {
        "id": "zxqe73yrjkGi"
      },
      "source": [
        "\n",
        "## <u>Problem 2 </u>\n",
        "\n",
        "### Measures of Averages\n",
        "\n",
        "* Mean of a group is defined as the sum of the elements in the group divided by the number of elements in the group.\n",
        "* Median is the middle number in a <b>sorted</b>, ascending or descending, list of numbers. If the list has $N$ numbers where $N$ is odd, then median is the element in the middle i.e, $(\\frac{N+1}{2})^{th}$ element. If $N$ is even, then median is the mean of $(\\frac{N}{2})^{th}$ and $(\\frac{N}{2}+1)^{th}$ elements"
      ]
    },
    {
      "cell_type": "code",
      "metadata": {
        "id": "TNWp2uyVjkGi"
      },
      "source": [
        "# List of product prices\n",
        "\n",
        "prod_price_list = [400, 250, 800, 550, 600, 820, 720, 15000, 360,250]"
      ],
      "execution_count": 7,
      "outputs": []
    },
    {
      "cell_type": "code",
      "metadata": {
        "id": "KwenpH43jkGm",
        "colab": {
          "base_uri": "https://localhost:8080/"
        },
        "outputId": "383997f3-8c2b-458d-9d88-45e68ea54617"
      },
      "source": [
        "# Calculate the mean of the product prices. Use list functions. Also print the mean_price\n",
        "mean_price = sum(prod_price_list)/len(prod_price_list)\n",
        "mean_price"
      ],
      "execution_count": 8,
      "outputs": [
        {
          "output_type": "execute_result",
          "data": {
            "text/plain": [
              "1975.0"
            ]
          },
          "metadata": {},
          "execution_count": 8
        }
      ]
    },
    {
      "cell_type": "code",
      "source": [
        "#sum of elements in list\n",
        "list1 = [400, 250, 800, 550, 600, 820, 720, 15000, 360,250]\n",
        "total = sum(list1)\n",
        "print(\"Sum of all elements in given list: \", total)"
      ],
      "metadata": {
        "colab": {
          "base_uri": "https://localhost:8080/"
        },
        "id": "cX0uvKxUXD8t",
        "outputId": "5f087e69-43ff-4aa6-cc89-091a2e11a660"
      },
      "execution_count": 11,
      "outputs": [
        {
          "output_type": "stream",
          "name": "stdout",
          "text": [
            "Sum of all elements in given list:  19750\n"
          ]
        }
      ]
    },
    {
      "cell_type": "code",
      "source": [
        "len(list1) # length of list"
      ],
      "metadata": {
        "colab": {
          "base_uri": "https://localhost:8080/"
        },
        "id": "Fo1VjGJAXgBa",
        "outputId": "641ef5bf-b440-4212-96da-8f50ffd5b627"
      },
      "execution_count": 12,
      "outputs": [
        {
          "output_type": "execute_result",
          "data": {
            "text/plain": [
              "10"
            ]
          },
          "metadata": {},
          "execution_count": 12
        }
      ]
    },
    {
      "cell_type": "code",
      "source": [
        "mean=total/len(list1)\n",
        "mean"
      ],
      "metadata": {
        "colab": {
          "base_uri": "https://localhost:8080/"
        },
        "id": "ai-bchBMXuCp",
        "outputId": "12eb24db-1f18-4b6b-a5ce-be96af1eb961"
      },
      "execution_count": 14,
      "outputs": [
        {
          "output_type": "execute_result",
          "data": {
            "text/plain": [
              "1975.0"
            ]
          },
          "metadata": {},
          "execution_count": 14
        }
      ]
    },
    {
      "cell_type": "markdown",
      "metadata": {
        "id": "gTojysiqjkGr"
      },
      "source": [
        "### **Calculate the median price:**"
      ]
    },
    {
      "cell_type": "code",
      "metadata": {
        "id": "5SBpWBGEjkGr",
        "colab": {
          "base_uri": "https://localhost:8080/"
        },
        "outputId": "da5a2888-f93d-4b63-a23b-812789dc8855"
      },
      "source": [
        "# Step 1 - Obtain the sorted list. Print the sorted_prices\n",
        "sorted_prices = sorted(prod_price_list)\n",
        "print(sorted_prices)"
      ],
      "execution_count": 18,
      "outputs": [
        {
          "output_type": "stream",
          "name": "stdout",
          "text": [
            "[250, 250, 360, 400, 550, 600, 720, 800, 820, 15000]\n"
          ]
        }
      ]
    },
    {
      "cell_type": "code",
      "metadata": {
        "id": "29eoJETXjkGu",
        "colab": {
          "base_uri": "https://localhost:8080/"
        },
        "outputId": "e211de1b-3df2-4361-e074-d88063e09f10"
      },
      "source": [
        "# Check if the number of elements in the list is even or odd\n",
        "if len(sorted_prices)%2==0:\n",
        "    print(\"Even\")\n",
        "else:\n",
        "   print(\"odd\")"
      ],
      "execution_count": 23,
      "outputs": [
        {
          "output_type": "stream",
          "name": "stdout",
          "text": [
            "Even\n"
          ]
        }
      ]
    },
    {
      "cell_type": "code",
      "metadata": {
        "id": "RiafM7R_jkGy",
        "colab": {
          "base_uri": "https://localhost:8080/"
        },
        "outputId": "5f29b646-5139-4ff3-ca3e-40e1c82837a7"
      },
      "source": [
        "# Use the corresponding formula to calculate the median and print the median\n",
        "sorted_prices_list = [250, 250, 360, 400, 550, 600, 720, 800, 820, 15000]\n",
        "num=len(sorted_prices_list)/2\n",
        "num1=int(num)\n",
        "ele1=sorted_prices_list[num1]\n",
        "ele2=sorted_prices_list[num1-1]\n",
        "median=(ele1+ele2)/2\n",
        "median"
      ],
      "execution_count": 24,
      "outputs": [
        {
          "output_type": "execute_result",
          "data": {
            "text/plain": [
              "575.0"
            ]
          },
          "metadata": {},
          "execution_count": 24
        }
      ]
    },
    {
      "cell_type": "code",
      "source": [
        "from statistics import median\n",
        "# Use the corresponding formula to calculate the median and print the median\n",
        "length_list = len(sorted_prices)\n",
        "median_price = (sorted_prices[int(length_list/2)-1]+sorted_prices[int(length_list/2)])/2\n",
        "median_price"
      ],
      "metadata": {
        "colab": {
          "base_uri": "https://localhost:8080/"
        },
        "id": "2LR09kIwdOZ6",
        "outputId": "9da1deb5-7ffa-41db-8bbf-800209b156d2"
      },
      "execution_count": 25,
      "outputs": [
        {
          "output_type": "execute_result",
          "data": {
            "text/plain": [
              "575.0"
            ]
          },
          "metadata": {},
          "execution_count": 25
        }
      ]
    },
    {
      "cell_type": "code",
      "metadata": {
        "id": "brysk47ojkG0",
        "colab": {
          "base_uri": "https://localhost:8080/"
        },
        "outputId": "0ae0a104-5a5d-4d7d-bcb9-9617190a8d92"
      },
      "source": [
        "# Check which is greater, mean or median\n",
        "mean_price > median_price"
      ],
      "execution_count": 26,
      "outputs": [
        {
          "output_type": "execute_result",
          "data": {
            "text/plain": [
              "True"
            ]
          },
          "metadata": {},
          "execution_count": 26
        }
      ]
    },
    {
      "cell_type": "markdown",
      "metadata": {
        "id": "jB0y0UdbjkG3"
      },
      "source": [
        "### Why do you think that is the case??"
      ]
    },
    {
      "cell_type": "markdown",
      "metadata": {
        "id": "_JguWGM_-_ST"
      },
      "source": [
        "### <u>Write your explanation in this text cell</u>\n",
        "\n",
        "Your explanation :  \n",
        "\n",
        "* **Mean:**\n",
        "\n",
        " To obtain the mean of a set of numbers, you have to sum up all the numbers and then divide it using the total numbers. In short, it is taking out the average of all numbers.\n",
        "\n",
        "* **Median:**\n",
        "\n",
        " When you arrange a given set of numbers from smaller to biggest, the middle number is said to be the median. Arrange any given series in either ascending or descending order or the middle value then is termed as the median. \n",
        " \n",
        " To find the median the data can be arranged in either descending order or ascending order.\n",
        "\n",
        " After arranging everything from smallest to biggest, take out the middle number, which is your median.\n",
        "\n",
        " When series have even numbers, median is the simple average of the middle pair of numbers.\n",
        "\n",
        " **When data distribution is skewed, median is the best representative.**\n",
        "\n",
        " **when the distribution of data is skewed to the left, the mean is often less than the median. When the distribution is skewed to the right, the mean is often greater than the median.**\n",
        "\n",
        "\n",
        " * **Mode:**\n",
        "\n",
        " The most frequently occurred number in a given set of observations is called mode.\n",
        "\n",
        "  The mode is derived when a number has frequency occurred in a series"
      ]
    },
    {
      "cell_type": "markdown",
      "source": [
        "\n",
        "\n",
        "---\n",
        "\n"
      ],
      "metadata": {
        "id": "Jm8003SQdxbI"
      }
    },
    {
      "cell_type": "markdown",
      "metadata": {
        "id": "J3x3tmzTjkG3"
      },
      "source": [
        "## <u> Problem 3 </u>\n",
        "\n",
        "Having a nested list sometimes might be a bit problematic. An individual was asked to collect the names of companies in the technology sector. While creating the list, by mistake the last three companies were subsumed in a list as shown below. You are required to get rid of the nesting"
      ]
    },
    {
      "cell_type": "code",
      "metadata": {
        "id": "6IbY26WqjkG4"
      },
      "source": [
        "# The list of tech companies curated by the individual\n",
        "tech_companies = ['Qualcomm','Google','Apple',['Nvidia','Cisco','Samsung']]\n",
        "\n",
        "# The final list that we want\n",
        "# correct_tech_companies = ['Qualcomm','Google','Apple','Nvidia','Cisco','Samsung']"
      ],
      "execution_count": 28,
      "outputs": []
    },
    {
      "cell_type": "code",
      "metadata": {
        "id": "anVH03bTjkG7",
        "colab": {
          "base_uri": "https://localhost:8080/"
        },
        "outputId": "ac13742f-51cc-43b6-f5a6-94af6d2c24bd"
      },
      "source": [
        "# Write your code below\n",
        "last_element = tech_companies[-1]\n",
        "companies = tech_companies[:3]+tech_companies[-1]\n",
        "companies\n",
        "     "
      ],
      "execution_count": 29,
      "outputs": [
        {
          "output_type": "execute_result",
          "data": {
            "text/plain": [
              "['Qualcomm', 'Google', 'Apple', 'Nvidia', 'Cisco', 'Samsung']"
            ]
          },
          "metadata": {},
          "execution_count": 29
        }
      ]
    },
    {
      "cell_type": "code",
      "metadata": {
        "id": "BsVsotOGjkG_",
        "colab": {
          "base_uri": "https://localhost:8080/"
        },
        "outputId": "881f2fc1-db18-4c75-ddf0-041487a4a7a8"
      },
      "source": [
        "# Do the same task another way\n",
        "tech_companies.remove(last_element)\n",
        "\n",
        "tech_companies.extend(last_element)\n",
        "tech_companies"
      ],
      "execution_count": 30,
      "outputs": [
        {
          "output_type": "execute_result",
          "data": {
            "text/plain": [
              "['Qualcomm', 'Google', 'Apple', 'Nvidia', 'Cisco', 'Samsung']"
            ]
          },
          "metadata": {},
          "execution_count": 30
        }
      ]
    },
    {
      "cell_type": "code",
      "source": [],
      "metadata": {
        "id": "ErpJpqBmeuja"
      },
      "execution_count": null,
      "outputs": []
    }
  ]
}